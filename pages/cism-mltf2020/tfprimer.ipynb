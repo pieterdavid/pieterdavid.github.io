{
 "cells": [
  {
   "cell_type": "markdown",
   "metadata": {},
   "source": [
    "_This page is part of the material for the [\"Introduction to Tensorflow\"](https://indico.cism.ucl.ac.be/event/84/) session of the [2020 CISM/CÉCI trainings](http://www.ceci-hpc.be/training.html), see the [table of contents](index.html) for the other parts. The notebook can be downloaded with [this link](mlintro.ipynb)._                   \n",
    "\n",
    "Tensorflow is a widely used library for machine learning, especially deep learning, both training and inference (evaluating trained neural networks on new data).\n",
    "It was developed by the Google Brain team, and is open source software.\n",
    "On the [website](https://www.tensorflow.org) you will find many libraries and tools for common tasks related to machine learning, and a lot of training material and examples.\n",
    "\n",
    "In this second part, we will look in a bit more detail at how [Tensorflow](https://www.tensorflow.org) works at a technical level, and why that makes it such an interesting choice.\n",
    "\n",
    "## Fundamental classes and concepts\n",
    "\n",
    "In the [first example](mlintro.html#A-first-example) we have used Tensorflow largely as a drop-in replacement.\n",
    "That worked because it provides a lot of the same interface, and because the `Tensor` class can for many things be used just like a [numpy](https://numpy.org) array."
   ]
  },
  {
   "cell_type": "code",
   "execution_count": 1,
   "metadata": {},
   "outputs": [
    {
     "name": "stdout",
     "output_type": "stream",
     "text": [
      "tf.Tensor(\n",
      "[0.         0.1        0.2        0.3        0.4        0.5\n",
      " 0.6        0.7        0.8        0.90000004 1.        ], shape=(11,), dtype=float32)\n"
     ]
    }
   ],
   "source": [
    "import tensorflow as tf\n",
    "x1 = tf.linspace(0., 1., 11)\n",
    "print(x1)"
   ]
  },
  {
   "cell_type": "markdown",
   "metadata": {},
   "source": [
    "In fact, `Tensor` is the class used for almost everything with numerical values in Tensorflow: a single number is a 0-dimensional tensor, a list (like above) a 1-dimensional tensor, a matrix a 2-dimensional tensor etc.\n",
    "To construct a `Tensor` from its value(s), the `tf.constant` helper method can be used:"
   ]
  },
  {
   "cell_type": "code",
   "execution_count": 2,
   "metadata": {},
   "outputs": [
    {
     "name": "stdout",
     "output_type": "stream",
     "text": [
      "tf.Tensor(\n",
      "[0.         0.1        0.2        0.3        0.4        0.5\n",
      " 0.6        0.7        0.8        0.90000004 1.        ], shape=(11,), dtype=float32)\n",
      "tf.Tensor(\n",
      "[[1. 2.]\n",
      " [3. 4.]], shape=(2, 2), dtype=float32)\n"
     ]
    }
   ],
   "source": [
    "x0 = tf.constant(3.14)\n",
    "x2 = tf.constant([ [ 1., 2.], [3., 4. ] ])\n",
    "print(x1)\n",
    "print(x2)"
   ]
  },
  {
   "cell_type": "markdown",
   "metadata": {},
   "source": [
    "As you can see above, the shape of the tensor is a tuple with the number of elements in each dimension, and the default type a 32-bit floating point number; if we were to construct one from integers, we would get a 32-bit integer type:"
   ]
  },
  {
   "cell_type": "code",
   "execution_count": 3,
   "metadata": {},
   "outputs": [
    {
     "name": "stdout",
     "output_type": "stream",
     "text": [
      "tf.Tensor([ 1  1  2  3  5  8 13 25], shape=(8,), dtype=int32)\n"
     ]
    }
   ],
   "source": [
    "x3 = tf.constant([ 1, 1, 2, 3, 5, 8, 13, 25 ])\n",
    "print(x3)"
   ]
  },
  {
   "cell_type": "markdown",
   "metadata": {},
   "source": [
    "These are all tensors with a static shape, like in numpy, but it is also possible to make tensors with dynamic shape, if the size in one dimension is not known beforehand.\n",
    "This is used for input nodes, which can be constructed before the batch size is known:"
   ]
  },
  {
   "cell_type": "code",
   "execution_count": 4,
   "metadata": {},
   "outputs": [
    {
     "name": "stdout",
     "output_type": "stream",
     "text": [
      "Tensor(\"input_1:0\", shape=(None, 3), dtype=float32)\n"
     ]
    }
   ],
   "source": [
    "x4 = tf.keras.layers.Input(shape=(3,))\n",
    "print(x4)"
   ]
  },
  {
   "cell_type": "markdown",
   "metadata": {},
   "source": [
    "It is also possible to make tensors where one dimension changes from entry to entry, so `Tensor` provides an extension of a numpy array.\n",
    "\n",
    "There is one more important feature about tensors, and this is actually the original reason they were developed: they can be used to construct a *computation graph*, which represents the calculations that need to be done, without actually performing them.\n",
    "Since Tensorflow 2.0, the default changed to use the \"eager\" mode, where the calculation is performed immediately, but constructing graphs (and optimizing them) provides better performance, so this is used by the higher-level helper functions to construct neural networks.\n",
    "\n",
    "It requires a bit of setup, but we can use [Tensorboard](https://www.tensorflow.org/tensorboard) can be used to visualize such graphs (the example is taken from [here](https://www.tensorflow.org/tensorboard/graphs#graphs_of_tffunctions) in the documentation)."
   ]
  },
  {
   "cell_type": "code",
   "execution_count": 5,
   "metadata": {},
   "outputs": [
    {
     "name": "stdout",
     "output_type": "stream",
     "text": [
      "env: TENSORBOARD_BINARY=/home/pieter/miniconda3/envs/ceci_mltf/bin/tensorboard\n"
     ]
    }
   ],
   "source": [
    "%load_ext tensorboard\n",
    "# the following line tells the extension where to find tensorboard\n",
    "# you will either not need, or have to change the path\n",
    "# To find the path: activate the conda / virtual environment, and run `which tensorboard`\n",
    "%env TENSORBOARD_BINARY=/home/pieter/miniconda3/envs/ceci_mltf/bin/tensorboard"
   ]
  },
  {
   "cell_type": "code",
   "execution_count": 6,
   "metadata": {},
   "outputs": [
    {
     "data": {
      "text/plain": [
       "Reusing TensorBoard on port 6007 (pid 22213), started 0:01:15 ago. (Use '!kill 22213' to kill it.)"
      ]
     },
     "metadata": {},
     "output_type": "display_data"
    },
    {
     "data": {
      "text/html": [
       "\n",
       "      <iframe id=\"tensorboard-frame-2b8c853e1c4f529f\" width=\"100%\" height=\"800\" frameborder=\"0\">\n",
       "      </iframe>\n",
       "      <script>\n",
       "        (function() {\n",
       "          const frame = document.getElementById(\"tensorboard-frame-2b8c853e1c4f529f\");\n",
       "          const url = new URL(\"/\", window.location);\n",
       "          const port = 6007;\n",
       "          if (port) {\n",
       "            url.port = port;\n",
       "          }\n",
       "          frame.src = url;\n",
       "        })();\n",
       "      </script>\n",
       "    "
      ],
      "text/plain": [
       "<IPython.core.display.HTML object>"
      ]
     },
     "metadata": {},
     "output_type": "display_data"
    }
   ],
   "source": [
    "# 3x3 random matrics\n",
    "x = tf.random.uniform((3, 3))\n",
    "y = tf.random.uniform((3, 3))\n",
    "\n",
    "@tf.function\n",
    "def f1(a, b):\n",
    "    return tf.nn.relu(tf.matmul(a, b))\n",
    "\n",
    "tf.summary.trace_on(graph=True, profiler=True)\n",
    "z = f1(x, y)\n",
    "from datetime import datetime\n",
    "logdir = f'logs/func/{datetime.now().strftime(\"%Y%m%d-%H%M%S\")}'\n",
    "with tf.summary.create_file_writer(logdir).as_default():\n",
    "    tf.summary.trace_export(\n",
    "        name=\"f1_trace_xy\",\n",
    "        step=0,\n",
    "        profiler_outdir=logdir)\n",
    "\n",
    "%tensorboard --logdir logs/func"
   ]
  },
  {
   "cell_type": "code",
   "execution_count": 6,
   "metadata": {},
   "outputs": [
    {
     "name": "stdout",
     "output_type": "stream",
     "text": [
      "<tf.Variable 'Variable:0' shape=() dtype=float32, numpy=3.14>\n"
     ]
    }
   ],
   "source": [
    "y1 = tf.Variable(3.14)\n",
    "print(y1)"
   ]
  },
  {
   "cell_type": "code",
   "execution_count": null,
   "metadata": {},
   "outputs": [],
   "source": []
  }
 ],
 "metadata": {
  "kernelspec": {
   "display_name": "ceci_mltf",
   "language": "python",
   "name": "ceci_mltf"
  },
  "language_info": {
   "codemirror_mode": {
    "name": "ipython",
    "version": 3
   },
   "file_extension": ".py",
   "mimetype": "text/x-python",
   "name": "python",
   "nbconvert_exporter": "python",
   "pygments_lexer": "ipython3",
   "version": "3.8.5"
  },
  "nikola": {
   "author": "Pieter David",
   "category": "",
   "date": "2020-11-03 20:44:27 UTC+01:00",
   "description": "",
   "link": "",
   "pretty_url": "False",
   "slug": "tfprimer",
   "tags": "",
   "title": "A flavour of Tensorflow",
   "type": "text"
  }
 },
 "nbformat": 4,
 "nbformat_minor": 4
}
